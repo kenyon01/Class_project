{
 "cells": [
  {
   "cell_type": "markdown",
   "metadata": {},
   "source": [
    "# Chapter 2 Root finding\n",
    "\n",
    "## The Problem:\n",
    "\n",
    "Find the root of an arbitrary function, i.e., find the $x$ that makes:\n",
    "$$\n",
    "f(x) = 0.\n",
    "$$\n",
    "Some remarks:\n",
    "- All equations can be cast into the form above by moving all terms to the left\n",
    "- The above can be understood as a vector equation, $n$ variables satisfying $n$ equations, which is **much harder**:\n",
    "$$\n",
    "\\mathbf{f}(\\mathbf{x})=\\mathbf{0}.\n",
    "$$\n",
    "- Globally Convergent _vs_ Locally Convergent\n",
    "- The success of solving the equation is _iterative_, and heavily depends on the \"initial guess\" -- there are many pitfalls.\n",
    "- So, first, look at your function"
   ]
  },
  {
   "cell_type": "markdown",
   "metadata": {},
   "source": [
    "## Bracketing and Bisection\n",
    "\n",
    "General principle: if $f(a)$ and $f(b)$ have opposite signs and $f(x)$ is continuous, then there must be a root in $[a,b]$.\n",
    "### Bisection\n",
    "\n",
    "Suppose $f(a) < 0$ and $f(b) > 0$. Pick the mid-point $c = \\frac{a+b}2$, if $f(c) = 0$ we are done. Else if $f(c) < 0$, the new intervel is $[c,b]$, otherwise $[a,c]$."
   ]
  },
  {
   "cell_type": "code",
   "execution_count": null,
   "metadata": {},
   "outputs": [],
   "source": [
    "def bisect(f, a, b, tolerance = 1.e-10):\n",
    "    x = .5 * (a + b)\n",
    "    fx = f(x)\n",
    "\n",
    "    print(x, fx, b-a)\n",
    "\n",
    "    if fx == 0. or b - a < tolerance:\n",
    "        return x\n",
    "\n",
    "    if f(a) * fx < 0.:\n",
    "        y = bisect(f, a, x, tolerance)\n",
    "    else:\n",
    "        y = bisect(f, x, b, tolerance)\n",
    "\n",
    "    return y"
   ]
  },
  {
   "cell_type": "code",
   "execution_count": null,
   "metadata": {},
   "outputs": [],
   "source": [
    "from math import sin\n",
    "\n",
    "def test_func(x):\n",
    "    return x * sin(x) - 1.\n",
    "\n",
    "print(bisect(test_func, 0., 2.))"
   ]
  },
  {
   "cell_type": "markdown",
   "metadata": {},
   "source": [
    "#### Remark\n",
    "\n",
    "Use lambda expression for function object:"
   ]
  },
  {
   "cell_type": "code",
   "execution_count": null,
   "metadata": {},
   "outputs": [],
   "source": [
    "print(bisect(lambda x: x * sin(x) - 1, 0., 2.))"
   ]
  },
  {
   "cell_type": "markdown",
   "metadata": {},
   "source": [
    "#### Remark\n",
    "\n",
    "Do not evaluate function twice:"
   ]
  },
  {
   "cell_type": "code",
   "execution_count": null,
   "metadata": {},
   "outputs": [],
   "source": [
    "def bisect_1(f, a, b, fa, fb, tolerance = 1.e-10):\n",
    "    x = .5 * (a + b)\n",
    "    fx = f(x)\n",
    "\n",
    "    print(x, fx, b-a)\n",
    "\n",
    "    if abs(fx) < tolerance or b - a < tolerance:\n",
    "        return x\n",
    "\n",
    "    if fa * fx < 0.:\n",
    "        y = bisect_1(f, a, x, fa, fx, tolerance)\n",
    "    else:\n",
    "        y = bisect_1(f, x, b, fx, fb, tolerance)\n",
    "\n",
    "    return y"
   ]
  },
  {
   "cell_type": "code",
   "execution_count": null,
   "metadata": {},
   "outputs": [],
   "source": [
    "print(bisect_1(lambda x: x * sin(x) - 1, 0., 2., -1., 2. * sin(2.) - 1.))"
   ]
  },
  {
   "cell_type": "code",
   "execution_count": null,
   "metadata": {},
   "outputs": [],
   "source": [
    "def bisect_2(f, a, b, tolerance = 1.e-10):\n",
    "\n",
    "    fa = f(a)\n",
    "    fb = f(b)\n",
    "    while True:\n",
    "        x = .5 * (a + b)\n",
    "        fx = f(x)\n",
    "\n",
    "        print(x, fx, b-a)\n",
    "\n",
    "        if abs(fx) < tolerance or b - a <= tolerance:\n",
    "            break\n",
    "\n",
    "        if fa * fx < 0.:\n",
    "            b = x\n",
    "            fb = fx\n",
    "        else:\n",
    "            a = x\n",
    "            fa = fx\n",
    "\n",
    "    return x"
   ]
  },
  {
   "cell_type": "code",
   "execution_count": null,
   "metadata": {},
   "outputs": [],
   "source": [
    "print(bisect_2(lambda x: x * sin(x) - 1, 0., 2.))"
   ]
  },
  {
   "cell_type": "markdown",
   "metadata": {},
   "source": [
    "### Method of false position\n",
    "\n",
    "The streight line between $(a, f(a))$ and $(b, f(b))$ is:\n",
    "$$\n",
    "y = f(a) + (x - a)\\frac{f(b) - f(a)}{b-a}.\n",
    "$$\n",
    "It intgersects with the $x$-axis at:\n",
    "$$\n",
    "x_0 = a - \\frac{f(a)(b-a)}{f(b) - f(a)}.\n",
    "$$\n",
    "Chose this point as the new point instead of the mid point."
   ]
  },
  {
   "cell_type": "code",
   "execution_count": null,
   "metadata": {},
   "outputs": [],
   "source": [
    "def false_position(f, a, b, tolerance = 1.e-10):\n",
    "\n",
    "    fa = f(a)\n",
    "    fb = f(b)\n",
    "    assert(fa * fb < 0.)\n",
    "\n",
    "    while True:\n",
    "        x = a - fa * (b-a) / (fb - fa)\n",
    "        fx = f(x)\n",
    "\n",
    "        print(x, fx, b-a)\n",
    "\n",
    "        if abs(fx) <= tolerance or b - a <= tolerance:\n",
    "            break\n",
    "\n",
    "        if fa * fx < 0.:\n",
    "            b, fb = x, fx\n",
    "        else:\n",
    "            a, fa = x, fx\n",
    "\n",
    "    return x"
   ]
  },
  {
   "cell_type": "code",
   "execution_count": null,
   "metadata": {},
   "outputs": [],
   "source": [
    "print(false_position(lambda x: x * sin(x) - 1, 0., 2.))"
   ]
  },
  {
   "cell_type": "markdown",
   "metadata": {},
   "source": [
    "### Pitfalls\n",
    "\n",
    "1. multiple roots very close to each other\n",
    "2. multiple roots\n",
    "3. Shallow function"
   ]
  },
  {
   "cell_type": "markdown",
   "metadata": {},
   "source": [
    "## Newton-Raphson method\n",
    "\n",
    "### The fixed point of iterative methods\n",
    "\n",
    "- Iteration for solving $x = g(x)$;\n",
    "- Iteration: $p_{k+1} = g(p_k)$ is called **fixed-point iteration**;\n",
    "- A fixed point of a function $g(x)$ is defined as the $x=P$ that makes $P = g(P)$;\n",
    "- If the fixed-point iteration converges, it converges to the fixed-point;\n",
    "  \n",
    "  Let $\\lim_{k\\rightarrow\\infty}p_k = p^\\ast$. Take the limit of the iterative relation:\n",
    "$$\n",
    "p_{k+1} = g(p_k)\n",
    "$$\n",
    "and note that $g(x)$ is continuous:\n",
    "$$\n",
    "\\lim_{k\\rightarrow\\infty}p_{k+1} = p^\\ast = g(\\lim_{k\\rightarrow\\infty}p_k) = g(p^\\ast),\n",
    "$$\n",
    "therefore $p^\\ast$ is a fixed point.\n",
    "\n",
    "- Geometric interpretation;\n",
    "- For the function $y = g(x)$ defined over $x\\in[a,b]$, if $y\\in[a,b]$, then $g$ has a fixed point in $[a,b]$.\n",
    "- Furthermore, if $g'(x)$ is defined over $(a,b)$ and $\\exists K < 1$ such that $|g'(x)|\\leq K$ for all $x\\in [(a,b)$, then the fixed point is unique.\n",
    "- If $|g'(x)|\\leq K < 1$ for all $x\\in [a,b]$, then the iteration converges;\n",
    "- If $|g'(x)| > 1$ for all $x\\in [a,b]$, then the iteration diverges.\n",
    "$$\n",
    "|P-p_1| = |g(P) - g(p_0| = |g'(c)||P-p_0|\n",
    "$$\n",
    "\n",
    "### The Newton Raphson theorem\n",
    "\n",
    "- Geometrically, approximate the function as a linear function using $f(x)$ and $f'(x)$.\n",
    "- Algebraically:\n",
    "$$\n",
    "f(x)\\cong f(x_0) + f'(x_0)(x-x_0),\n",
    "$$\n",
    "and solve $x$ from $f(x) = 0$:\n",
    "$$\n",
    "x = x_0 - \\frac{f(x_0)}{f'(x_0)}.\n",
    "$$\n",
    "Use this as the next guess, _i.e._, $x_1$ and repeat the step above. The fixed point of:\n",
    "$$\n",
    "g(x) = x - \\frac{f(x)}{f'(x)}.\n",
    "$$\n",
    "- Does the iteration converge?\n",
    "$$\n",
    "g'(x_0) = \\frac{f(x_0)f''(x_0)}{(f'(x_0))^2}\\quad\\mbox{vanish if}\\quad f(x_0) = 0.\n",
    "$$\n",
    "There is a vicinity of $x_0$ where $|g'(x)|<1$.\n",
    "- Example: Newton Raphson for finding square root\n",
    "$$\n",
    "f(x) = x^2-A = 0\n",
    "$$\n",
    "  The iterative function:\n",
    "$$\n",
    "g(x) = x - \\frac{x^2-A}{2x} = \\frac 12\\left(x+\\frac Ax\\right).\n",
    "$$"
   ]
  },
  {
   "cell_type": "markdown",
   "metadata": {},
   "source": [
    "## <span style=\"color:red\">Exercises</span>\n",
    "> - Rewrite Programs 2.2, 2.3, and 2.4 in python and do A&P 1 and 2 of Section 2.3\n",
    "> - Section 2.4, Problem 11"
   ]
  },
  {
   "cell_type": "code",
   "execution_count": null,
   "metadata": {},
   "outputs": [],
   "source": [
    "def newton_raphson_iteration(f, df, x0, accuracy):\n",
    "\n",
    "    p = [x0]  # create a list to stores all iteration results\n",
    "    while True:\n",
    "        x = x0 - f(x0) / df(x0)\n",
    "\n",
    "        p.append(x)\n",
    "\n",
    "        if np.abs(x-x0) < accuracy:\n",
    "            break\n",
    "\n",
    "        x0 = x\n",
    "\n",
    "    return p"
   ]
  },
  {
   "cell_type": "markdown",
   "metadata": {},
   "source": [
    "A test function with a simple root at $x = -2$ and a double root at $x = 1$:"
   ]
  },
  {
   "cell_type": "code",
   "execution_count": null,
   "metadata": {},
   "outputs": [],
   "source": [
    "def test_func(x):\n",
    "    return x ** 3 - 3 * x + 2.\n",
    "\n",
    "def d_test_func(x):\n",
    "    return 3 * x ** 2 - 3\n",
    "\n",
    "#\n",
    "# How does the function look like?\n",
    "#\n",
    "\n",
    "import numpy as np\n",
    "import matplotlib.pyplot as plt\n",
    "\n",
    "x = np.linspace(-2.5, 2.5)\n",
    "\n",
    "fx = test_func(x)\n",
    "dx = d_test_func(x)\n",
    "\n",
    "plt.grid(True)\n",
    "plt.plot(x, fx)\n",
    "plt.plot(x, dx)\n",
    "\n",
    "plt.show()"
   ]
  },
  {
   "cell_type": "code",
   "execution_count": null,
   "metadata": {},
   "outputs": [],
   "source": [
    "newton_raphson_iteration(test_func, d_test_func, -2.5, 1.e-10)"
   ]
  },
  {
   "cell_type": "markdown",
   "metadata": {},
   "source": [
    "### Convergence Speed\n",
    "- How to measure the speed?  Define the order of convergence. If\n",
    "$$\n",
    "\\lim_{n\\rightarrow\\infty}\\frac{|E_{n+1}|}{|E_n|^R} =\n",
    "\\lim_{n\\rightarrow\\infty}\\frac{|p-p_{n+1}|}{|p-p_n|^R} = A,\n",
    "$$\n",
    "$R$ is called the **order of convergence**."
   ]
  },
  {
   "cell_type": "code",
   "execution_count": null,
   "metadata": {},
   "outputs": [],
   "source": [
    "p1 = newton_raphson_iteration(test_func, d_test_func, -2.4, 1.e-10)\n",
    "p2 = newton_raphson_iteration(test_func, d_test_func, 1.4, 1.e-10)\n",
    "\n",
    "e1 = np.abs(np.array(p1)+2.)\n",
    "e2 = np.abs(np.array(p2)-1.)\n",
    "\n",
    "plt.grid(True)\n",
    "plt.semilogy(e1, 'ro', label='$x_0 = -2$')\n",
    "plt.semilogy(e2, 'bo', label='$x_0 = 1$')\n",
    "\n",
    "plt.xlabel(\"Step\")\n",
    "plt.ylabel(\"Error\")\n",
    "plt.legend()\n",
    "plt.show()"
   ]
  },
  {
   "cell_type": "markdown",
   "metadata": {},
   "source": [
    "- Convergence Rate:\n",
    "$$\n",
    "\\begin{eqnarray}\n",
    "\\frac{|E_{n+1}|}{|E_{n}|^2} &\\cong& \\frac{f''(x_0)}{2|f'(x_0)|}\\quad\\mbox{Simple root}\\\\\n",
    "\\frac{|E_{n+1}|}{|E_{n}|} &\\cong& \\frac{M-1}{M}\\quad\\mbox{Multiple root}\\\\\n",
    "\\end{eqnarray}\n",
    "$$"
   ]
  },
  {
   "cell_type": "markdown",
   "metadata": {},
   "source": [
    "## Accelerated Newton-Raphson\n",
    "- If the order of the root is known, Newton-Raphson can be accelertated to achieve quadratic convergence.\n",
    "$$\n",
    "x_1 = x_0 - \\frac{Mf(x_0)}{f'(x_0)}.\n",
    "$$"
   ]
  },
  {
   "cell_type": "code",
   "execution_count": null,
   "metadata": {},
   "outputs": [],
   "source": [
    "def accelerated_newton_raphson_iteration(f, df, x0, accuracy, m=1.):\n",
    "\n",
    "    p = [x0]  # create a list to stores all iteration results\n",
    "    while True:\n",
    "        x = x0 - m * f(x0) / df(x0) \n",
    "\n",
    "        p.append(x)\n",
    "\n",
    "        if np.abs(x-x0) < accuracy:\n",
    "            break\n",
    "\n",
    "        x0 = x\n",
    "\n",
    "    return p"
   ]
  },
  {
   "cell_type": "code",
   "execution_count": null,
   "metadata": {},
   "outputs": [],
   "source": [
    "p1 = accelerated_newton_raphson_iteration(test_func, d_test_func,-2.4, 1.e-10)\n",
    "p2 = accelerated_newton_raphson_iteration(test_func, d_test_func, 1.4, 1.e-10)\n",
    "p3 = accelerated_newton_raphson_iteration(test_func, d_test_func, 1.4, 1.e-10, 2)\n",
    "\n",
    "e1 = np.abs(np.array(p1)+2.)\n",
    "e2 = np.abs(np.array(p2)-1.)\n",
    "e3 = np.abs(np.array(p3)-1.)\n",
    "\n",
    "plt.semilogy(e1, 'ro', label='$x_0 = -2$')\n",
    "plt.semilogy(e2, 'bo', label='$x_0 = 1, m = 1$')\n",
    "plt.semilogy(e3, 'go', label='$x_0 = 1, m = 2$')\n",
    "\n",
    "plt.grid(True)\n",
    "plt.xlabel(\"Step\")\n",
    "plt.ylabel(\"Error\")\n",
    "plt.legend()\n",
    "plt.show()"
   ]
  },
  {
   "cell_type": "markdown",
   "metadata": {},
   "source": [
    "## Secant Method\n",
    "\n",
    "- If the derivative is _not_ known, replace the tengent line with the secant line.\n",
    "$$\n",
    "f'(x_k) \\cong \\frac{f(x_k)-f(x_{k-1})}{x_k - x_{k-1}}\n",
    "$$\n",
    "The iteration:\n",
    "$$\n",
    "x_2 = x_1 - \\frac{f(x_1)(x_1 - x_0)}{f(x_1) - f(x_0)}.\n",
    "$$\n",
    "- One function evaluation"
   ]
  },
  {
   "cell_type": "code",
   "execution_count": null,
   "metadata": {},
   "outputs": [],
   "source": [
    "def secant_iteration(f, x0, x1, accuracy):\n",
    "\n",
    "    p = [x0, x1]  # create a list to stores all iteration results\n",
    "    fx0 = f(x0)\n",
    "\n",
    "    while True:\n",
    "        fx1 = f(x1)\n",
    "        x = x1 - f(x1) * (x1 - x0) / (fx1 - fx0)\n",
    "\n",
    "        p.append(x)\n",
    "\n",
    "        if np.abs(x-x1) < accuracy:\n",
    "            break\n",
    "\n",
    "        x0 = x1\n",
    "        x1 = x\n",
    "        fx0 = fx1\n",
    "        \n",
    "    return p"
   ]
  },
  {
   "cell_type": "code",
   "execution_count": null,
   "metadata": {},
   "outputs": [],
   "source": [
    "p1 = newton_raphson_iteration(test_func, d_test_func, -1.4, 1.e-11)\n",
    "p2 = secant_iteration(test_func, -1.4, -1.2, 1.e-11)\n",
    "\n",
    "e1=np.abs(np.array(p1)+2.)\n",
    "e2=np.abs(np.array(p2)+2.)\n",
    "\n",
    "plt.grid(True)\n",
    "plt.semilogy(e1, 'ro', label='Newton-Raphson')\n",
    "plt.semilogy(e2, 'bo', label='Secant')\n",
    "\n",
    "plt.legend()\n",
    "plt.show()"
   ]
  },
  {
   "cell_type": "markdown",
   "metadata": {},
   "source": [
    "## <span style=\"color:red\">Exercises</span>\n",
    "> - Section 2.4, Exercise 18\n",
    "> - Section 2.4, Exercise 22, write a python program implementing the algorithm"
   ]
  },
  {
   "cell_type": "markdown",
   "metadata": {},
   "source": [
    "## Aitken's Process\n",
    "\n",
    "Accelerating _any_ linearly-convergent sequence.\n",
    "\n",
    "By definition, if $p_n$ linearly converge to $p$ as $n\\rightarrow\\infty$, then:\n",
    "$$\n",
    "\\frac{p-p_{n+1}}{p-p_n} \\cong A.\n",
    "$$\n",
    "For two consecutive steps, we have:\n",
    "$$\n",
    "\\frac{p-p_{n+1}}{p-p_n} \\cong \\frac{p-p_{n+2}}{p-p_{n+1}},\n",
    "$$\n",
    "from which we can solve $p$:\n",
    "$$\n",
    "p\\cong\\frac{p_{n+2}p_n - p^2_{n+1}}{p_{n+2}-2p_{n+1}+p_n}=\n",
    "p_n-\\frac{(p_{n+1}-p_n)^2}{(p_{n+2}-p_{n+1})-(p_{n+1}-p_n)}\n",
    "=p_n-\\frac{(\\Delta p_n)^2}{\\Delta^2p_n}.\n",
    "$$"
   ]
  },
  {
   "cell_type": "code",
   "execution_count": null,
   "metadata": {},
   "outputs": [],
   "source": [
    "def steffensen_iteration(f, df, p0, accuracy):\n",
    "\n",
    "    p = [p0]  # create a list to store all iteration results\n",
    "    i = 0\n",
    "    q = [ ]\n",
    "    while True:\n",
    "        i += 1\n",
    "\n",
    "        p1 = p0 - f(p0) / df(p0)\n",
    "        p2 = p1 - f(p1) / df(p1)\n",
    "        q0 = p0 - ((p1-p0)**2)/(p2-2*p1+p0)\n",
    "         \n",
    "        p.append( p0 )\n",
    "        q.append( q0 )\n",
    "        if abs(q0-p2) < accuracy:\n",
    "            break\n",
    "\n",
    "        p0 = p2\n",
    "        #p1 = p2\n",
    "\n",
    "    return p, q"
   ]
  },
  {
   "cell_type": "code",
   "execution_count": null,
   "metadata": {},
   "outputs": [],
   "source": [
    "p, q = steffensen_iteration(test_func, d_test_func, 1.4, 1.e-11)\n",
    "\n",
    "ep=np.abs(np.array(p)-1.)\n",
    "eq=np.abs(np.array(q)-1.)\n",
    "\n",
    "plt.grid(True)\n",
    "plt.semilogy(ep, 'ro', label='p')\n",
    "plt.semilogy(eq, 'bo', label='q')\n",
    "\n",
    "plt.legend()\n",
    "plt.show()"
   ]
  },
  {
   "cell_type": "code",
   "execution_count": null,
   "metadata": {},
   "outputs": [],
   "source": [
    "def steffensen_iteration1(f, df, p0, accuracy):\n",
    "\n",
    "    p = [p0]  # create a list to store all iteration results\n",
    "    i = 0\n",
    "    q = [ ]\n",
    "    while True:\n",
    "        i += 1\n",
    "\n",
    "        p.append(p[-1] - f(p[-1]) / df(p[-1]))\n",
    "\n",
    "        if i > 1:\n",
    "            q.append(p[-3] - ((p[-2]-p[-3]) ** 2)/(p[-1]- 2*p[-2] + p[-3]))\n",
    "\n",
    "            if i> 2 and abs(q[-1]-q[-2]) < accuracy:\n",
    "                break\n",
    "\n",
    "    return p, q"
   ]
  },
  {
   "cell_type": "code",
   "execution_count": null,
   "metadata": {},
   "outputs": [],
   "source": [
    "p, q = steffensen_iteration1(test_func, d_test_func, 1.4, 1.e-10)\n",
    "\n",
    "ep=np.abs(np.array(p)-1.)\n",
    "eq=np.abs(np.array(q)-1.)\n",
    "\n",
    "plt.grid(True)\n",
    "plt.semilogy(ep, 'ro', label='p')\n",
    "plt.semilogy(eq, 'bo', label='q')\n",
    "\n",
    "plt.legend()\n",
    "plt.show()"
   ]
  },
  {
   "cell_type": "markdown",
   "metadata": {},
   "source": [
    "## <span style=\"color:red\">Exercises</span>\n",
    "> Section 2.5, Exercise 10, 14"
   ]
  }
 ],
 "metadata": {
  "kernelspec": {
   "display_name": "Python 3",
   "language": "python",
   "name": "python3"
  },
  "language_info": {
   "codemirror_mode": {
    "name": "ipython",
    "version": 3
   },
   "file_extension": ".py",
   "mimetype": "text/x-python",
   "name": "python",
   "nbconvert_exporter": "python",
   "pygments_lexer": "ipython3",
   "version": "3.7.3"
  }
 },
 "nbformat": 4,
 "nbformat_minor": 4
}
